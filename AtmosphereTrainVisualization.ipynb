{
 "cells": [
  {
   "cell_type": "code",
   "execution_count": 108,
   "metadata": {},
   "outputs": [],
   "source": [
    "# Import Dependencies\n",
    "import matplotlib.pyplot as plt\n",
    "import pandas as pd\n",
    "import numpy as np\n",
    "plt.rcParams[\"figure.figsize\"] = [16,9]"
   ]
  },
  {
   "cell_type": "code",
   "execution_count": 109,
   "metadata": {},
   "outputs": [
    {
     "data": {
      "text/html": [
       "<div>\n",
       "<style scoped>\n",
       "    .dataframe tbody tr th:only-of-type {\n",
       "        vertical-align: middle;\n",
       "    }\n",
       "\n",
       "    .dataframe tbody tr th {\n",
       "        vertical-align: top;\n",
       "    }\n",
       "\n",
       "    .dataframe thead th {\n",
       "        text-align: right;\n",
       "    }\n",
       "</style>\n",
       "<table border=\"1\" class=\"dataframe\">\n",
       "  <thead>\n",
       "    <tr style=\"text-align: right;\">\n",
       "      <th></th>\n",
       "      <th>Area</th>\n",
       "      <th>Troposphere (0 to 12 km)</th>\n",
       "      <th>Stratosphere (12 to 50 km)</th>\n",
       "      <th>Mesopshere (50 to 80 km)</th>\n",
       "    </tr>\n",
       "  </thead>\n",
       "  <tbody>\n",
       "    <tr>\n",
       "      <th>0</th>\n",
       "      <td>N2</td>\n",
       "      <td>2.985412e+07</td>\n",
       "      <td>9.574183e+06</td>\n",
       "      <td>42396.027550</td>\n",
       "    </tr>\n",
       "    <tr>\n",
       "      <th>1</th>\n",
       "      <td>O2</td>\n",
       "      <td>9.147260e+06</td>\n",
       "      <td>2.933516e+06</td>\n",
       "      <td>12990.082880</td>\n",
       "    </tr>\n",
       "    <tr>\n",
       "      <th>2</th>\n",
       "      <td>Ar</td>\n",
       "      <td>5.092242e+05</td>\n",
       "      <td>1.633076e+05</td>\n",
       "      <td>723.152524</td>\n",
       "    </tr>\n",
       "    <tr>\n",
       "      <th>3</th>\n",
       "      <td>CO2</td>\n",
       "      <td>2.482533e+04</td>\n",
       "      <td>7.961456e+03</td>\n",
       "      <td>35.254610</td>\n",
       "    </tr>\n",
       "    <tr>\n",
       "      <th>4</th>\n",
       "      <td>Ne</td>\n",
       "      <td>5.007052e+02</td>\n",
       "      <td>1.605756e+02</td>\n",
       "      <td>0.711055</td>\n",
       "    </tr>\n",
       "    <tr>\n",
       "      <th>5</th>\n",
       "      <td>He</td>\n",
       "      <td>2.862038e+01</td>\n",
       "      <td>9.178526e+00</td>\n",
       "      <td>0.040644</td>\n",
       "    </tr>\n",
       "    <tr>\n",
       "      <th>6</th>\n",
       "      <td>CH4</td>\n",
       "      <td>4.093417e+01</td>\n",
       "      <td>1.312754e+01</td>\n",
       "      <td>0.058131</td>\n",
       "    </tr>\n",
       "    <tr>\n",
       "      <th>7</th>\n",
       "      <td>Kr</td>\n",
       "      <td>1.303784e+02</td>\n",
       "      <td>4.181220e+01</td>\n",
       "      <td>0.185151</td>\n",
       "    </tr>\n",
       "  </tbody>\n",
       "</table>\n",
       "</div>"
      ],
      "text/plain": [
       "  Area  Troposphere (0 to 12 km)  Stratosphere (12 to 50 km)  \\\n",
       "0   N2              2.985412e+07                9.574183e+06   \n",
       "1   O2              9.147260e+06                2.933516e+06   \n",
       "2   Ar              5.092242e+05                1.633076e+05   \n",
       "3  CO2              2.482533e+04                7.961456e+03   \n",
       "4   Ne              5.007052e+02                1.605756e+02   \n",
       "5   He              2.862038e+01                9.178526e+00   \n",
       "6  CH4              4.093417e+01                1.312754e+01   \n",
       "7   Kr              1.303784e+02                4.181220e+01   \n",
       "\n",
       "   Mesopshere (50 to 80 km)  \n",
       "0              42396.027550  \n",
       "1              12990.082880  \n",
       "2                723.152524  \n",
       "3                 35.254610  \n",
       "4                  0.711055  \n",
       "5                  0.040644  \n",
       "6                  0.058131  \n",
       "7                  0.185151  "
      ]
     },
     "execution_count": 109,
     "metadata": {},
     "output_type": "execute_result"
    }
   ],
   "source": [
    "# Import Atmosphere Train csv into datafram\n",
    "train_df = pd.read_csv('Resources/Train Hours Totals.csv')\n",
    "train_df"
   ]
  },
  {
   "cell_type": "code",
   "execution_count": 129,
   "metadata": {},
   "outputs": [
    {
     "data": {
      "text/plain": [
       "<function matplotlib.pyplot.show(*args, **kw)>"
      ]
     },
     "execution_count": 129,
     "metadata": {},
     "output_type": "execute_result"
    },
    {
     "data": {
      "image/png": "[encoded data removed]",
      "text/plain": [
       "<Figure size 1152x648 with 1 Axes>"
      ]
     },
     "metadata": {
      "needs_background": "light"
     },
     "output_type": "display_data"
    }
   ],
   "source": [
    "# Plot horizontal bar chart of N2 for Tropo, Strato, and Meso\n",
    "\n",
    "labels = ['Troposphere', 'Stratosphere', 'Mesosphere']\n",
    "N2 = train_df.loc[0].values.tolist()[1:4]\n",
    "O2 = train_df.loc[1].values.tolist()[1:4]\n",
    "Ar = train_df.loc[2].values.tolist()[1:4]\n",
    "CO2 = train_df.loc[3].values.tolist()[1:4]\n",
    "Ne = train_df.loc[4].values.tolist()[1:4]\n",
    "He = train_df.loc[5].values.tolist()[1:4]\n",
    "CH4 = train_df.loc[6].values.tolist()[1:4]\n",
    "Kr = train_df.loc[7].values.tolist()[1:4]\n",
    "\n",
    "x = np.arange(len(labels))\n",
    "width = 0.1\n",
    "\n",
    "fig, ax = plt.subplots()\n",
    "rects1 = ax.barh(x + 0.35, N2, width, label='N2')\n",
    "rects2 = ax.barh(x + 0.25, O2, width, label='O2')\n",
    "rects3 = ax.barh(x + 0.15, Ar, width, label = 'Ar')\n",
    "rects4 = ax.barh(x + 0.05, CO2, width, label = 'CO2')\n",
    "rects5 = ax.barh(x - 0.05, Ne, width, label = 'Ne')\n",
    "rects6 = ax.barh(x - 0.15, He, width, label = 'He')\n",
    "rects7 = ax.barh(x - 0.25, CH4, width, label = 'CH4')\n",
    "rects8 = ax.barh(x - 0.35, Kr, width, label = 'Kr')\n",
    "\n",
    "\n",
    "\n",
    "ax.set_xlabel('Hours Waiting')\n",
    "ax.set_title('Title')\n",
    "ax.set_yticks(x)\n",
    "ax.set_yticklabels(labels)\n",
    "ax.legend()\n",
    "plt.xticks(rotation=75)\n",
    "plt.xscale('log')\n",
    "\n",
    "#Vertical Lines\n",
    "time = 1\n",
    "# One Hour\n",
    "plt.axvline(x=time)\n",
    "# One Day\n",
    "plt.axvline(x=time * 24)\n",
    "# One Week\n",
    "plt.axvline(x=time * 24 * 7)\n",
    "# One Month\n",
    "plt.axvline(x=time * 24 * 30)\n",
    "# One Year\n",
    "plt.axvline(x=time * 24 * 365)\n",
    "# 100 Years\n",
    "plt.axvline(x=time * 24 * 365 * 100)\n",
    "# 1,000 Years\n",
    "plt.axvline(x=time * 24 * 365 * 1000)\n",
    "# 3,000 Years\n",
    "plt.axvline(x=time * 24 * 365 * 3000)\n",
    "\n",
    "fig.tight_layout()\n",
    "plt.show"
   ]
  },
  {
   "cell_type": "code",
   "execution_count": 115,
   "metadata": {},
   "outputs": [
    {
     "data": {
      "text/plain": [
       "[29854118.72,\n",
       " 9147259.752,\n",
       " 509224.1547,\n",
       " 24825.32825,\n",
       " 500.70522029999995,\n",
       " 28.62038356,\n",
       " 40.93416845,\n",
       " 130.37838090000002]"
      ]
     },
     "execution_count": 115,
     "metadata": {},
     "output_type": "execute_result"
    }
   ],
   "source": [
    "# Dataframe colum to list\n",
    "# Will need to rework for Rows\n",
    "tropo = train_df['Troposphere (0 to 12 km)'].tolist()\n",
    "tropo"
   ]
  },
  {
   "cell_type": "code",
   "execution_count": 116,
   "metadata": {},
   "outputs": [
    {
     "data": {
      "text/plain": [
       "[29854118.72]"
      ]
     },
     "execution_count": 116,
     "metadata": {},
     "output_type": "execute_result"
    }
   ],
   "source": [
    "N2 = train_df.loc[0].values.tolist()[1:2]\n",
    "N2"
   ]
  },
  {
   "cell_type": "code",
   "execution_count": null,
   "metadata": {},
   "outputs": [],
   "source": []
  }
 ],
 "metadata": {
  "kernelspec": {
   "display_name": "Python 3",
   "language": "python",
   "name": "python3"
  },
  "language_info": {
   "codemirror_mode": {
    "name": "ipython",
    "version": 3
   },
   "file_extension": ".py",
   "mimetype": "text/x-python",
   "name": "python",
   "nbconvert_exporter": "python",
   "pygments_lexer": "ipython3",
   "version": "3.7.3"
  }
 },
 "nbformat": 4,
 "nbformat_minor": 2
}
