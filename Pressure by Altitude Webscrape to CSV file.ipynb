{
 "cells": [
  {
   "cell_type": "code",
   "execution_count": 1,
   "metadata": {},
   "outputs": [],
   "source": [
    "# Imports\n",
    "import requests\n",
    "from bs4 import BeautifulSoup\n",
    "import re\n",
    "import pandas as pd\n",
    "import numpy as np"
   ]
  },
  {
   "cell_type": "code",
   "execution_count": 2,
   "metadata": {},
   "outputs": [],
   "source": [
    "# Request the webpage\n",
    "r = requests.get('http://www.pdas.com/atmosTable1SI.html')"
   ]
  },
  {
   "cell_type": "code",
   "execution_count": 3,
   "metadata": {},
   "outputs": [
    {
     "name": "stdout",
     "output_type": "stream",
     "text": [
      "<!DOCTYPE html>\n",
      "<html lang=\"en-us\"> \n",
      "<!-- www.pdas.com/atmosTable1SI.html  -   called from the Atmosphere page -->\n",
      "<head>\n",
      "<meta charset=\"utf-8\" />\n",
      "<title>A Table of the Standard Atmosphere to 86 km in SI units</title>\n",
      "<meta name=\"generator\" content=\"EditPad\" />\n",
      "<meta name=\"author\" content=\"Ralph Carmichael\" />\n",
      "<meta name=\"description\" content= \"A Table of the Standard Atmosphere to \n",
      "   86 km in SI units\" />\n",
      "<meta name=\"keywords\" content= \"atmosphere, atmosphere table, temperature, \n",
      "   density, p\n"
     ]
    }
   ],
   "source": [
    "# Verify the request worked\n",
    "print(r.text[0:500])"
   ]
  },
  {
   "cell_type": "code",
   "execution_count": 4,
   "metadata": {},
   "outputs": [],
   "source": [
    "# Parse the html\n",
    "soup = BeautifulSoup(r.text, 'html.parser')"
   ]
  },
  {
   "cell_type": "code",
   "execution_count": 5,
   "metadata": {},
   "outputs": [],
   "source": [
    "# Collect required data\n",
    "results = soup.find_all('p', attrs={'class':'input'})"
   ]
  },
  {
   "cell_type": "code",
   "execution_count": 6,
   "metadata": {},
   "outputs": [
    {
     "data": {
      "text/plain": [
       "1"
      ]
     },
     "execution_count": 6,
     "metadata": {},
     "output_type": "execute_result"
    }
   ],
   "source": [
    "# Verify results\n",
    "len(results)"
   ]
  },
  {
   "cell_type": "code",
   "execution_count": 7,
   "metadata": {},
   "outputs": [],
   "source": [
    "first_result = results[0]"
   ]
  },
  {
   "cell_type": "code",
   "execution_count": 8,
   "metadata": {},
   "outputs": [],
   "source": [
    "x = first_result.contents[0]"
   ]
  },
  {
   "cell_type": "code",
   "execution_count": 10,
   "metadata": {},
   "outputs": [
    {
     "data": {
      "text/plain": [
       "'\\n alt    sigma     delta   theta  temp   press    dens     a    visc  k.visc   \\n  km                               K   N/sq.m   kg/cu.m  m/s kg/m-s sq.m/s   \\n  '"
      ]
     },
     "execution_count": 10,
     "metadata": {},
     "output_type": "execute_result"
    }
   ],
   "source": [
    "# Table headers are in the first 160 characters, will make them table headers in dataframe later.\n",
    "x[0:160]"
   ]
  },
  {
   "cell_type": "code",
   "execution_count": 11,
   "metadata": {},
   "outputs": [],
   "source": [
    "y = x[160:-1]\n",
    "z=[s.strip().split(\" \") for s in y.splitlines()]"
   ]
  },
  {
   "cell_type": "code",
   "execution_count": 12,
   "metadata": {},
   "outputs": [
    {
     "name": "stdout",
     "output_type": "stream",
     "text": [
      "['-2', '1.2067E+0', '1.2611E+0', '1.0451', '301.2', '1.278E+5', '1.478E+0', '347.9', '18.51', '1.25E-5']\n"
     ]
    }
   ],
   "source": [
    "print(z[0])"
   ]
  },
  {
   "cell_type": "code",
   "execution_count": 13,
   "metadata": {},
   "outputs": [
    {
     "data": {
      "text/plain": [
       "45"
      ]
     },
     "execution_count": 13,
     "metadata": {},
     "output_type": "execute_result"
    }
   ],
   "source": [
    "len(z)"
   ]
  },
  {
   "cell_type": "code",
   "execution_count": 14,
   "metadata": {},
   "outputs": [],
   "source": [
    "df = pd.DataFrame(np.array(z).reshape(45,10), columns = ['alt km', 'sigma', 'delta', 'theta', 'temp K', 'P N/sq.m',\n",
    "                                                         'dens kg/cu.m', 'a m/s', 'visc kg/m-s', 'k.visc sq m/2'])"
   ]
  },
  {
   "cell_type": "code",
   "execution_count": 15,
   "metadata": {},
   "outputs": [
    {
     "data": {
      "text/html": [
       "<div>\n",
       "<style scoped>\n",
       "    .dataframe tbody tr th:only-of-type {\n",
       "        vertical-align: middle;\n",
       "    }\n",
       "\n",
       "    .dataframe tbody tr th {\n",
       "        vertical-align: top;\n",
       "    }\n",
       "\n",
       "    .dataframe thead th {\n",
       "        text-align: right;\n",
       "    }\n",
       "</style>\n",
       "<table border=\"1\" class=\"dataframe\">\n",
       "  <thead>\n",
       "    <tr style=\"text-align: right;\">\n",
       "      <th></th>\n",
       "      <th>alt km</th>\n",
       "      <th>sigma</th>\n",
       "      <th>delta</th>\n",
       "      <th>theta</th>\n",
       "      <th>temp K</th>\n",
       "      <th>P N/sq.m</th>\n",
       "      <th>dens kg/cu.m</th>\n",
       "      <th>a m/s</th>\n",
       "      <th>visc kg/m-s</th>\n",
       "      <th>k.visc sq m/2</th>\n",
       "    </tr>\n",
       "  </thead>\n",
       "  <tbody>\n",
       "    <tr>\n",
       "      <th>0</th>\n",
       "      <td>-2</td>\n",
       "      <td>1.2067E+0</td>\n",
       "      <td>1.2611E+0</td>\n",
       "      <td>1.0451</td>\n",
       "      <td>301.2</td>\n",
       "      <td>1.278E+5</td>\n",
       "      <td>1.478E+0</td>\n",
       "      <td>347.9</td>\n",
       "      <td>18.51</td>\n",
       "      <td>1.25E-5</td>\n",
       "    </tr>\n",
       "    <tr>\n",
       "      <th>1</th>\n",
       "      <td>0</td>\n",
       "      <td>1.0000E+0</td>\n",
       "      <td>1.0000E+0</td>\n",
       "      <td>1.0000</td>\n",
       "      <td>288.1</td>\n",
       "      <td>1.013E+5</td>\n",
       "      <td>1.225E+0</td>\n",
       "      <td>340.3</td>\n",
       "      <td>17.89</td>\n",
       "      <td>1.46E-5</td>\n",
       "    </tr>\n",
       "    <tr>\n",
       "      <th>2</th>\n",
       "      <td>2</td>\n",
       "      <td>8.2168E-1</td>\n",
       "      <td>7.8462E-1</td>\n",
       "      <td>0.9549</td>\n",
       "      <td>275.2</td>\n",
       "      <td>7.950E+4</td>\n",
       "      <td>1.007E+0</td>\n",
       "      <td>332.5</td>\n",
       "      <td>17.26</td>\n",
       "      <td>1.71E-5</td>\n",
       "    </tr>\n",
       "    <tr>\n",
       "      <th>3</th>\n",
       "      <td>4</td>\n",
       "      <td>6.6885E-1</td>\n",
       "      <td>6.0854E-1</td>\n",
       "      <td>0.9098</td>\n",
       "      <td>262.2</td>\n",
       "      <td>6.166E+4</td>\n",
       "      <td>8.193E-1</td>\n",
       "      <td>324.6</td>\n",
       "      <td>16.61</td>\n",
       "      <td>2.03E-5</td>\n",
       "    </tr>\n",
       "    <tr>\n",
       "      <th>4</th>\n",
       "      <td>6</td>\n",
       "      <td>5.3887E-1</td>\n",
       "      <td>4.6600E-1</td>\n",
       "      <td>0.8648</td>\n",
       "      <td>249.2</td>\n",
       "      <td>4.722E+4</td>\n",
       "      <td>6.601E-1</td>\n",
       "      <td>316.5</td>\n",
       "      <td>15.95</td>\n",
       "      <td>2.42E-5</td>\n",
       "    </tr>\n",
       "  </tbody>\n",
       "</table>\n",
       "</div>"
      ],
      "text/plain": [
       "  alt km      sigma      delta   theta temp K  P N/sq.m dens kg/cu.m  a m/s  \\\n",
       "0     -2  1.2067E+0  1.2611E+0  1.0451  301.2  1.278E+5     1.478E+0  347.9   \n",
       "1      0  1.0000E+0  1.0000E+0  1.0000  288.1  1.013E+5     1.225E+0  340.3   \n",
       "2      2  8.2168E-1  7.8462E-1  0.9549  275.2  7.950E+4     1.007E+0  332.5   \n",
       "3      4  6.6885E-1  6.0854E-1  0.9098  262.2  6.166E+4     8.193E-1  324.6   \n",
       "4      6  5.3887E-1  4.6600E-1  0.8648  249.2  4.722E+4     6.601E-1  316.5   \n",
       "\n",
       "  visc kg/m-s k.visc sq m/2  \n",
       "0       18.51       1.25E-5  \n",
       "1       17.89       1.46E-5  \n",
       "2       17.26       1.71E-5  \n",
       "3       16.61       2.03E-5  \n",
       "4       15.95       2.42E-5  "
      ]
     },
     "execution_count": 15,
     "metadata": {},
     "output_type": "execute_result"
    }
   ],
   "source": [
    "df.head()"
   ]
  },
  {
   "cell_type": "code",
   "execution_count": 17,
   "metadata": {},
   "outputs": [],
   "source": [
    "# Save to CSV\n",
    "#df.to_csv('Resources/Pressure_by_Altitude.csv', index = False)"
   ]
  },
  {
   "cell_type": "code",
   "execution_count": null,
   "metadata": {},
   "outputs": [],
   "source": []
  }
 ],
 "metadata": {
  "kernelspec": {
   "display_name": "Python 3",
   "language": "python",
   "name": "python3"
  },
  "language_info": {
   "codemirror_mode": {
    "name": "ipython",
    "version": 3
   },
   "file_extension": ".py",
   "mimetype": "text/x-python",
   "name": "python",
   "nbconvert_exporter": "python",
   "pygments_lexer": "ipython3",
   "version": "3.7.3"
  }
 },
 "nbformat": 4,
 "nbformat_minor": 2
}
